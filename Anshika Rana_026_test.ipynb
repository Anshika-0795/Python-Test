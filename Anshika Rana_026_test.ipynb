{
 "cells": [
  {
   "cell_type": "markdown",
   "id": "708c5173-233e-4e4c-a5b6-a1942ef94661",
   "metadata": {},
   "source": [
    "Question 1\n",
    "list:- It is mutable so it can be changed.\n",
    "       It is written in square brackets [].\n",
    "eg-list = [1,2,3]\n",
    "tuple:- It is immutable so it cannnot be changed.\n",
    "        It is written in parenthesis ().\n",
    "eg-tuple = (4,5,6)"
   ]
  },
  {
   "cell_type": "markdown",
   "id": "09bc0aa2-059d-4c83-bd7d-8a74050b3434",
   "metadata": {},
   "source": [
    "Question 2\n",
    "By using input() we will take the input from the user.\n",
    "It returns the string (str) datatype.\n",
    "We can convert it into integer by typecasting."
   ]
  },
  {
   "cell_type": "markdown",
   "id": "4bb070da-40e6-4a87-a96d-35ece53c1795",
   "metadata": {},
   "source": [
    "Question 3\n",
    "Python dictionaries:-It is datatype in python as dictionary with key value pairs."
   ]
  },
  {
   "cell_type": "code",
   "execution_count": 10,
   "id": "e336f4e1-84b6-4746-8b88-f8b600a8e389",
   "metadata": {},
   "outputs": [
    {
     "data": {
      "text/plain": [
       "dict"
      ]
     },
     "execution_count": 10,
     "metadata": {},
     "output_type": "execute_result"
    }
   ],
   "source": [
    "dic = {'name' : 'anshika','age' : 19,'address' : 'UP'}\n",
    "type(dic)"
   ]
  },
  {
   "cell_type": "markdown",
   "id": "4c2dabdd-397f-4b5f-b000-b93257e7da5c",
   "metadata": {},
   "source": [
    "Question 4\n",
    "for() loop in python is used to iterate over any sequence."
   ]
  },
  {
   "cell_type": "code",
   "execution_count": 9,
   "id": "fc41b251-0ac0-46fa-9aaa-4698a695b75c",
   "metadata": {},
   "outputs": [
    {
     "name": "stdout",
     "output_type": "stream",
     "text": [
      "1\n",
      "2\n",
      "3\n",
      "4\n",
      "5\n"
     ]
    }
   ],
   "source": [
    "for i in range(1,6):\n",
    "    print(i)"
   ]
  },
  {
   "cell_type": "markdown",
   "id": "bcebcb61-3411-4e05-9434-b65466203771",
   "metadata": {},
   "source": [
    "Question 5\n",
    "Exception handling in python is the way to handle the runtime errors using try,except and finally blocks.\n",
    "Try:-block of code causes exception\n",
    "Except:-block of code that runs when exception occurs\n",
    "Finally:-block of code that runs always whether exception occurs or not"
   ]
  },
  {
   "cell_type": "code",
   "execution_count": 11,
   "id": "47127570-d81d-44d5-a721-ac32e54244b2",
   "metadata": {},
   "outputs": [
    {
     "name": "stdin",
     "output_type": "stream",
     "text": [
      "Enter a number:  7\n"
     ]
    },
    {
     "name": "stdout",
     "output_type": "stream",
     "text": [
      "This block always runs.\n"
     ]
    }
   ],
   "source": [
    "try:\n",
    "    num = int(input(\"Enter a number: \"))\n",
    "    result = 10 / num\n",
    "except ZeroDivisionError:\n",
    "    print(\"You can't divide by zero!\")\n",
    "finally:\n",
    "    print(\"This block always runs.\")"
   ]
  },
  {
   "cell_type": "markdown",
   "id": "01767978-7060-4cc3-984b-210984a11979",
   "metadata": {},
   "source": [
    "Question 6\n",
    "A Python module is a file which has .py extension containing python code such as functions, classes, or variables.\n",
    "It has many built-in modules:- math, random, datetime, etc.\n",
    "Import.maths:- This imports the whole module\n",
    "math import.sqrt:- This imports only the sqrt function"
   ]
  },
  {
   "cell_type": "code",
   "execution_count": 15,
   "id": "32950314-12c8-4705-b136-e1944cf30594",
   "metadata": {},
   "outputs": [
    {
     "name": "stdout",
     "output_type": "stream",
     "text": [
      "Area of circle: 3.141592653589793\n"
     ]
    }
   ],
   "source": [
    "import math\n",
    "area = math.pi\n",
    "print(\"Area of circle:\", area)"
   ]
  },
  {
   "cell_type": "code",
   "execution_count": 14,
   "id": "8c0e2ec6-5c55-47a7-95d5-7931e012561b",
   "metadata": {},
   "outputs": [
    {
     "name": "stdout",
     "output_type": "stream",
     "text": [
      "Square root: 7.0\n"
     ]
    }
   ],
   "source": [
    "from math import sqrt\n",
    "number = 49\n",
    "root = sqrt(number)\n",
    "print(\"Square root:\", root)"
   ]
  },
  {
   "cell_type": "markdown",
   "id": "f309c29d-f97c-43f2-bb23-6b90c83bc225",
   "metadata": {},
   "source": [
    "Question 7\n",
    "Object oriented programming is a way to organise the code using classes and objects.\n",
    "Class:- it is an blueprint of an object\n",
    "Object:- it is an instance of class"
   ]
  },
  {
   "cell_type": "code",
   "execution_count": 16,
   "id": "1f43e588-9b46-4696-92ce-face1d24a275",
   "metadata": {},
   "outputs": [
    {
     "name": "stdout",
     "output_type": "stream",
     "text": [
      "bark!\n"
     ]
    }
   ],
   "source": [
    "class Dog:\n",
    "    def bark(self):\n",
    "        print(\"bark!\")\n",
    "my_dog = Dog()\n",
    "my_dog.bark()"
   ]
  },
  {
   "cell_type": "markdown",
   "id": "10b8a11b-20a8-46ff-8536-121c145e94e6",
   "metadata": {},
   "source": [
    "Question 8\n",
    "list comprehension is the simple and easy way to create lists in python."
   ]
  },
  {
   "cell_type": "code",
   "execution_count": 19,
   "id": "5f3129ad-05c5-4b88-8d34-b558a316c903",
   "metadata": {},
   "outputs": [
    {
     "name": "stdout",
     "output_type": "stream",
     "text": [
      "[0, 4, 8, 12, 16]\n"
     ]
    }
   ],
   "source": [
    "result = [x * 2 for x in range(10) if x % 2 == 0]\n",
    "print(result)"
   ]
  },
  {
   "cell_type": "code",
   "execution_count": 20,
   "id": "b1946f23-49dd-4964-956b-452ff1de7eca",
   "metadata": {},
   "outputs": [
    {
     "name": "stdout",
     "output_type": "stream",
     "text": [
      "Area of the circle: 78.53981633974483\n"
     ]
    }
   ],
   "source": [
    "#Question 9\n",
    "import math\n",
    "def calculate_area(radius):\n",
    "    area = math.pi * radius ** 2\n",
    "    return area\n",
    "result = calculate_area(5)\n",
    "print(\"Area of the circle:\", result)"
   ]
  },
  {
   "cell_type": "code",
   "execution_count": 21,
   "id": "6b20f939-1507-4433-9e0c-9ded64fbe9bf",
   "metadata": {},
   "outputs": [
    {
     "name": "stdin",
     "output_type": "stream",
     "text": [
      "Enter your name:  Anshika Rana\n",
      "Enter your age:  19\n"
     ]
    },
    {
     "name": "stdout",
     "output_type": "stream",
     "text": [
      "Hello Anshika Rana, you are 19 years old!\n"
     ]
    }
   ],
   "source": [
    "#Question 10\n",
    "name = input(\"Enter your name: \")\n",
    "age = input(\"Enter your age: \")\n",
    "print(\"Hello\", name + \", you are\", age, \"years old!\")"
   ]
  },
  {
   "cell_type": "code",
   "execution_count": 24,
   "id": "cf50f83a-c5b9-4134-8f2d-d1012f7c3237",
   "metadata": {},
   "outputs": [
    {
     "name": "stdout",
     "output_type": "stream",
     "text": [
      "1 2 3 5 7 11 13 17 19 23 29 31 37 41 43 47 "
     ]
    }
   ],
   "source": [
    "#Question 15\n",
    "for num in range(1, 50):      \n",
    "    is_prime = True          \n",
    "    for i in range(2, num):\n",
    "        if num % i == 0: \n",
    "            is_prime = False\n",
    "            break\n",
    "    if is_prime:\n",
    "        print(num, end=\" \") "
   ]
  },
  {
   "cell_type": "code",
   "execution_count": 26,
   "id": "2c6581ba-abaa-49df-b2e9-11ffe4b00b81",
   "metadata": {},
   "outputs": [
    {
     "name": "stdout",
     "output_type": "stream",
     "text": [
      "1 apple\n",
      "2 banana\n",
      "3 orange\n",
      "4 litchi\n",
      "5 blueberry\n"
     ]
    }
   ],
   "source": [
    "#Question 11\n",
    "fruits = [\"apple\", \"banana\", \"orange\", \"litchi\", \"blueberry\"]\n",
    "for position, fruit in enumerate(fruits, start=1):\n",
    "    print(position, fruit)"
   ]
  },
  {
   "cell_type": "code",
   "execution_count": 28,
   "id": "815b447c-e10f-4dee-9ff7-9838eff7e01a",
   "metadata": {},
   "outputs": [],
   "source": [
    "#Question 12\n",
    "def grade_calculator(score):\n",
    "    if score >= 90:\n",
    "        return \"A\"\n",
    "    elif score >= 80:\n",
    "        return \"B\"\n",
    "    elif score >= 70:\n",
    "        return \"C\"\n",
    "    elif score >= 60:\n",
    "        return \"D\"\n",
    "    else:\n",
    "        return \"F\""
   ]
  },
  {
   "cell_type": "code",
   "execution_count": 29,
   "id": "7a10f03f-fc8d-434b-9a3f-29de5e82302b",
   "metadata": {},
   "outputs": [
    {
     "name": "stdout",
     "output_type": "stream",
     "text": [
      "Score: 95 => Grade: A\n",
      "Score: 82 => Grade: B\n",
      "Score: 58 => Grade: F\n"
     ]
    }
   ],
   "source": [
    "print(\"Score: 95 => Grade:\", grade_calculator(95))\n",
    "print(\"Score: 82 => Grade:\", grade_calculator(82))\n",
    "print(\"Score: 58 => Grade:\", grade_calculator(58))"
   ]
  },
  {
   "cell_type": "code",
   "execution_count": null,
   "id": "6c1d63d8-e102-46ff-92ff-19073e15b149",
   "metadata": {},
   "outputs": [],
   "source": []
  }
 ],
 "metadata": {
  "kernelspec": {
   "display_name": "Python [conda env:base] *",
   "language": "python",
   "name": "conda-base-py"
  },
  "language_info": {
   "codemirror_mode": {
    "name": "ipython",
    "version": 3
   },
   "file_extension": ".py",
   "mimetype": "text/x-python",
   "name": "python",
   "nbconvert_exporter": "python",
   "pygments_lexer": "ipython3",
   "version": "3.13.5"
  }
 },
 "nbformat": 4,
 "nbformat_minor": 5
}
